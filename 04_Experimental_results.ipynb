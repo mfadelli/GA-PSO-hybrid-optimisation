{
 "cells": [
  {
   "cell_type": "markdown",
   "id": "21faced4",
   "metadata": {},
   "source": [
    "# Comparison on artificial functions #"
   ]
  },
  {
   "cell_type": "code",
   "execution_count": 1,
   "id": "4b7cc461",
   "metadata": {},
   "outputs": [
    {
     "name": "stderr",
     "output_type": "stream",
     "text": [
      "C:\\Users\\utente\\anaconda3\\lib\\site-packages\\scipy\\__init__.py:146: UserWarning: A NumPy version >=1.16.5 and <1.23.0 is required for this version of SciPy (detected version 1.26.2\n",
      "  warnings.warn(f\"A NumPy version >={np_minversion} and <{np_maxversion}\"\n"
     ]
    }
   ],
   "source": [
    "#import all the the functions and the algorithms defined in the previous notebooks\n",
    "%run 03_extra_PSO_mv_implementation.ipynb"
   ]
  },
  {
   "cell_type": "markdown",
   "id": "6991b573",
   "metadata": {},
   "source": [
    "**Algorithms to be compared:** Random search vs GA-PSO"
   ]
  },
  {
   "cell_type": "markdown",
   "id": "d2e1fb35",
   "metadata": {},
   "source": [
    "## Metric for comparison ##"
   ]
  },
  {
   "cell_type": "markdown",
   "id": "369aebd7",
   "metadata": {},
   "source": [
    "In this notebook we will compare GA-PSO with a trivial random search on the basis of **number of function evaluations**, a metric that is commonly used in the field.\\\n",
    "This model of cost is practically very useful when the function evaluation are the most time consuming operations in the algorithm; this is not true in our case since the function evaluations are very fast and the most time consuming operations are mostly the evoutions one.\\\n",
    "Nevertheless this metric captures the quality of the evolution process, i.e. how many invidual were being evaluated in order to find a certain (sub)optimal solution.\\\n",
    "The code for the comparison is at the end of the notebook"
   ]
  },
  {
   "cell_type": "markdown",
   "id": "3227e752",
   "metadata": {},
   "source": [
    "## Some comparisons for D = 4 ##\n",
    "We report some results for the case with the following parameters:\n",
    "* $D=4$\n",
    "* number of discrete values for each coordinate: $101$\n",
    "* population size: $50$\n",
    "* number of independent runs: $10$\n",
    "* PSO_it: $5$\n",
    "* max number of function evaluations: $33'000$"
   ]
  },
  {
   "cell_type": "markdown",
   "id": "bd4405cf",
   "metadata": {},
   "source": [
    "## Schwefel 2.21 ##\n",
    "Best result obtained: \n",
    "* $2.93\\cdot 10^{-5}$ for **GA-PSO**\n",
    "* $2.43$ for **random search**\n",
    "\n",
    "<img src=\"./images/schweffel_4_101.png\" alt=\"alternative text\" width=\"550\"/>"
   ]
  },
  {
   "cell_type": "markdown",
   "id": "743b7b97",
   "metadata": {},
   "source": [
    "## Bent Cigar ##\n",
    "Best result obtained: \n",
    "* $4.69 \\cdot 10^3$ for **GA-PSO**\n",
    "* $2.19 \\cdot 10^6$ for **random search**\n",
    "\n",
    "<img src=\"./images/bent_cigar_4b.png\" alt=\"alternative text\" width=\"550\"/>"
   ]
  },
  {
   "cell_type": "markdown",
   "id": "1ed784c2",
   "metadata": {},
   "source": [
    "## Dropwave ##\n",
    "Best result obtained: \n",
    "* $6.34 \\cdot 10^{-7}$ for **GA-PSO**\n",
    "* $6.50 \\cdot 10^{-2}$ for **random search**\n",
    "\n",
    "<img src=\"./images/dropwave_4.png\" alt=\"alternative text\" width=\"550\"/>"
   ]
  },
  {
   "cell_type": "markdown",
   "id": "67271f9e",
   "metadata": {},
   "source": [
    "## Some comparisons for D = 20 ##\n",
    "We report some results for the case with the following parameters:\n",
    "* $D=20$\n",
    "* number of discrete values for each coordinate: $101$\n",
    "* population size: $50$\n",
    "* number of independent runs: $10$\n",
    "* max number of function evaluations: $33'000$\n",
    "* PSO_it: $5$"
   ]
  },
  {
   "cell_type": "markdown",
   "id": "0a8b4962",
   "metadata": {},
   "source": [
    "## Salomon ##\n",
    "Best result obtained: \n",
    "* $0.83$ for **GA-PSO**\n",
    "* $2.80$ for **random search**\n",
    "\n",
    "<img src=\"./images/salomon_20.png\" alt=\"alternative text\" width=\"550\"/>"
   ]
  },
  {
   "cell_type": "markdown",
   "id": "4f42e979",
   "metadata": {},
   "source": [
    "## Schwefel 2.21 ##\n",
    "Best result obtained: \n",
    "* $36.74$ for **GA-PSO**\n",
    "* $41.00$ for **random search**\n",
    "\n",
    "<img src=\"./images/schwefel_20.png\" alt=\"alternative text\" width=\"550\"/>"
   ]
  },
  {
   "cell_type": "markdown",
   "id": "6348fc24",
   "metadata": {},
   "source": [
    "## Ackley ##\n",
    "Best result obtained: \n",
    "* $1.55$ for **GA-PSO**\n",
    "* $18.14$ for **random search**\n",
    "\n",
    "<img src=\"./images/ackley_20.png\" alt=\"alternative text\" width=\"550\"/>"
   ]
  },
  {
   "cell_type": "markdown",
   "id": "257a90ae",
   "metadata": {},
   "source": [
    "## All comparisons for D = 50 ##\n",
    "We report all the results for the case with the following parameters:\n",
    "* $D=50$\n",
    "* number of discrete values for each coordinate: $401$\n",
    "* population size: $50$\n",
    "* number of independent runs: $10$\n",
    "* PSO_it: $5$\n",
    "* max number of function evaluations: $50'000$"
   ]
  },
  {
   "cell_type": "markdown",
   "id": "7eedaa61",
   "metadata": {},
   "source": [
    "### Ackley ###\n",
    "Best result obtained: \n",
    "* $17.38$ for **GA-PSO**\n",
    "* $20.09$ for **random search**\n",
    "\n",
    "<img src=\"./images/ackley_50.png\" alt=\"alternative text\" width=\"550\"/>"
   ]
  },
  {
   "cell_type": "markdown",
   "id": "6343dca5",
   "metadata": {},
   "source": [
    "### Schaffer f7  ###\n",
    "Best result obtained: \n",
    "* $64.06$ for **GA-PSO**\n",
    "* $84.68$ for **random search**\n",
    "\n",
    "<img src=\"./images/schaffer_f7_50.png\" alt=\"alternative text\" width=\"550\"/>"
   ]
  },
  {
   "cell_type": "markdown",
   "id": "c39e29d1",
   "metadata": {},
   "source": [
    "### Bent Cigar  ###\n",
    "Best result obtained: \n",
    "* $5.37 \\cdot 10^9$ for **GA-PSO**\n",
    "* $7.57 \\cdot 10^9$ for **random search**\n",
    "\n",
    "<img src=\"./images/bent_cigar_50.png\" alt=\"alternative text\" width=\"550\"/>"
   ]
  },
  {
   "cell_type": "markdown",
   "id": "33dd0df9",
   "metadata": {},
   "source": [
    "### Schwefel 2.21  ###\n",
    "Best result obtained: \n",
    "* $51.84$ for **GA-PSO**\n",
    "* $75.81$ for **random search**\n",
    "\n",
    "<img src=\"./images/schwefel_50.png\" alt=\"alternative text\" width=\"550\"/>"
   ]
  },
  {
   "cell_type": "markdown",
   "id": "9b62332a",
   "metadata": {},
   "source": [
    "### Salomon  ###\n",
    "Best result obtained: \n",
    "* $3.20$ for **GA-PSO**\n",
    "* $5.55$ for **random search**\n",
    "\n",
    "<img src=\"./images/salomon_50.png\" alt=\"alternative text\" width=\"550\"/>"
   ]
  },
  {
   "cell_type": "markdown",
   "id": "fb0a04b2",
   "metadata": {},
   "source": [
    "### Dropwave  ###\n",
    "Best result obtained: \n",
    "* $0.95$ for **GA-PSO**\n",
    "* $0.98$ for **random search**\n",
    "\n",
    "<img src=\"./images/dropwave_50.png\" alt=\"alternative text\" width=\"550\"/>"
   ]
  },
  {
   "cell_type": "markdown",
   "id": "23fe4eb1",
   "metadata": {},
   "source": [
    "### Alpine 1  ###\n",
    "Best result obtained: \n",
    "* $17.39$ for **GA-PSO**\n",
    "* $76.37$ for **random search**\n",
    "\n",
    "<img src=\"./images/alpine_50.png\" alt=\"alternative text\" width=\"550\"/>"
   ]
  },
  {
   "cell_type": "markdown",
   "id": "aab6aafe",
   "metadata": {},
   "source": [
    "## Code for the plots ##"
   ]
  },
  {
   "cell_type": "code",
   "execution_count": 2,
   "id": "c199ee06",
   "metadata": {},
   "outputs": [],
   "source": [
    "def random_search(function, rot_matrix,d,minimum,maximum,granularity,max_fitness_eval=100000):\n",
    "    '''\n",
    "    Implements basic random search in the interval\n",
    "    '''\n",
    "    best_tot=np.inf\n",
    "    best_h=[]\n",
    "    evals=[]\n",
    "    f_eval=0\n",
    "    while f_eval<max_fitness_eval:\n",
    "        population = initialization(1000,d,d,minimum,maximum,granularity)      \n",
    "    \n",
    "        #evaluation\n",
    "        values, f_eval = evaluation(function,population,f_eval,d,d,rot_matrix,max_fitness_eval)\n",
    "\n",
    "        best_value=min(values)\n",
    "        if best_value<best_tot:\n",
    "            best_tot=best_value\n",
    "        best_h+=[best_tot]\n",
    "        evals+=[f_eval]\n",
    "    return best_h,evals    "
   ]
  },
  {
   "cell_type": "code",
   "execution_count": 3,
   "id": "379c3809",
   "metadata": {},
   "outputs": [],
   "source": [
    "def comparison(function, pop_size, dim, minimum, maximum, granularity, n_reps):\n",
    "    '''\n",
    "    Utility for executing and storing results over multiple runs\n",
    "    '''\n",
    "    rot_mat = generate_random_rotation_matrix(dim+dim)\n",
    "    results_ga_pso=[]\n",
    "    space_ga_pso=[]\n",
    "    for i in range(0,n_reps):\n",
    "        res,space = GA_PSO_algorithm(500,5,function,rot_mat,pop_size,dim,dim,minimum, maximum, granularity,\n",
    "                                     20,(maximum-minimum)/1.375, max_fitness_eval=34000)\n",
    "        space_ga_pso = space\n",
    "        results_ga_pso += [res]\n",
    "        print(i)\n",
    "    \n",
    "    results_ga_pso = np.array(results_ga_pso)\n",
    "\n",
    "    #calculate the three lists\n",
    "    best_values_GA_PSO = np.min(results_ga_pso, axis=0)\n",
    "    mean_values_GA_PSO = np.mean(results_ga_pso, axis=0)\n",
    "    std_values_GA_PSO = np.std(results_ga_pso, axis=0)\n",
    "    \n",
    "    \n",
    "    results_rs=[]\n",
    "    space_rs=[]\n",
    "    for i in range(0,n_reps):\n",
    "        res,space= random_search(function, rot_mat,dim,minimum,maximum,granularity,max_fitness_eval=34000)\n",
    "        space_rs = space\n",
    "        results_rs += [res]\n",
    "        print(i)\n",
    "    \n",
    "    results_rs = np.array(results_rs)\n",
    "\n",
    "    #calculate the three lists\n",
    "    best_values_rs = np.min(results_rs, axis=0)\n",
    "    mean_values_rs = np.mean(results_rs, axis=0)\n",
    "    std_values_rs = np.std(results_rs, axis=0)\n",
    "    \n",
    "    return best_values_GA_PSO, mean_values_GA_PSO, std_values_GA_PSO, space_ga_pso, best_values_rs,mean_values_rs,std_values_rs,space_rs\n",
    "\n",
    "    "
   ]
  },
  {
   "cell_type": "code",
   "execution_count": 4,
   "id": "650bb13e",
   "metadata": {},
   "outputs": [],
   "source": [
    "def plot_vectors(vec1, vec2, vec3, vec4, vec9, vec10, vec11, vec12, function):\n",
    "    '''\n",
    "    Utility for plotting the results\n",
    "    '''\n",
    "    plt.figure(figsize=(11, 6))\n",
    "\n",
    "    plt.subplot(1, 2, 1)\n",
    "    plt.plot(vec4, vec1, 'x-', label='GA-PSO', markersize=1,color='blue')\n",
    "    \n",
    "    plt.plot(vec12, vec9, 'x-', label='Random search', markersize=1, color='green')\n",
    "    plt.xlabel('Function evaluation')\n",
    "    plt.ylabel('Best value found (lowest)')\n",
    "    plt.title(f'Comparison best values on {function}')\n",
    "    plt.legend()\n",
    "    plt.grid(alpha=0.2)  \n",
    "    plt.ylim(0,max(max(vec1),max(vec9),max(vec2),max(vec10))) \n",
    "\n",
    "    # Plotting the second set of vectors with error bars as semitransparent\n",
    "    plt.subplot(1, 2, 2)\n",
    "    plt.plot(vec4, vec2, 'x-', label='GA-PSO',markersize=1, color='blue')\n",
    "    plt.fill_between(vec4, vec2 - vec3, vec2 + vec3, alpha=0.2, color='blue', label='GA-PSO std')\n",
    "    \n",
    "    plt.plot(vec12, vec10, 'x-', label='Random search',markersize=1, color='green')\n",
    "    plt.fill_between(vec12, vec10 - vec11, vec10 + vec11, alpha=0.2, color='green', label='Random search std')\n",
    "    plt.xlabel('Function evaluation')\n",
    "    plt.ylabel('Best value found (mean)')\n",
    "    plt.title(f'Comparison mean best values on {function}')\n",
    "    plt.legend()\n",
    "    plt.grid(alpha=0.2) \n",
    "    plt.ylim(0,max(max(vec1),max(vec9),max(vec2),max(vec10)))  \n",
    "\n",
    "    plt.tight_layout()\n",
    "    plt.show()"
   ]
  },
  {
   "cell_type": "code",
   "execution_count": 5,
   "id": "41543f1a",
   "metadata": {
    "scrolled": false
   },
   "outputs": [],
   "source": [
    "#example of use\n",
    "\n",
    "#best_values_GA_PSO, mean_values_GA_PSO, std_values_GA_PSO, space_ga_pso, best_values_rs,mean_values_rs,std_values_rs,space_rs=comparison(rotated_schwefel_2_21_func, 50, 2, -100,100, 101, 30)\n",
    "#plot_vectors(best_values_GA_PSO, mean_values_GA_PSO, std_values_GA_PSO, space_ga_pso, best_values_rs,mean_values_rs,std_values_rs,space_rs,'Schwefel 2.21')"
   ]
  },
  {
   "cell_type": "code",
   "execution_count": 6,
   "id": "f75bbfc0",
   "metadata": {},
   "outputs": [],
   "source": [
    "#plot_vectors(best_values_GA_PSO, mean_values_GA_PSO, std_values_GA_PSO, space_ga_pso, best_values_rs,mean_values_rs,std_values_rs,space_rs,'Schwefel 2.21')"
   ]
  },
  {
   "cell_type": "markdown",
   "id": "3f17bdd7",
   "metadata": {},
   "source": [
    "## Comparisons with PSO_mv ##"
   ]
  },
  {
   "cell_type": "markdown",
   "id": "911baa3e",
   "metadata": {},
   "source": [
    "In this section some comparisons with our implementation of PSO_mv are presented (see PSO_mv_implementation notebook for details).\n",
    "* On *Alpine 1* with $D=50$ and the search interval restricted to $[-5,5]$ and $51$ intermediate values:\n",
    "<img src=\"./images/alpine1_3way.png\" alt=\"alternative text\" width=\"550\"/>\n",
    "* On *Schwefel 2.21* with $D=4$ and $201$ intermediate values:\n",
    "<img src=\"./images/schwefel_3way.png\" alt=\"alternative text\" width=\"550\"/>"
   ]
  }
 ],
 "metadata": {
  "kernelspec": {
   "display_name": "Python 3 (ipykernel)",
   "language": "python",
   "name": "python3"
  },
  "language_info": {
   "codemirror_mode": {
    "name": "ipython",
    "version": 3
   },
   "file_extension": ".py",
   "mimetype": "text/x-python",
   "name": "python",
   "nbconvert_exporter": "python",
   "pygments_lexer": "ipython3",
   "version": "3.9.7"
  }
 },
 "nbformat": 4,
 "nbformat_minor": 5
}
